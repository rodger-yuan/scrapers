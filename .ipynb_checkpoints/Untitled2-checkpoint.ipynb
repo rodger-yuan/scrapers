{
 "cells": [
  {
   "cell_type": "code",
   "execution_count": 153,
   "metadata": {
    "collapsed": false
   },
   "outputs": [],
   "source": [
    "from collections import defaultdict\n",
    "\n",
    "from bs4 import BeautifulSoup, Comment\n",
    "from urllib import urlopen\n",
    "import pandas as pd\n",
    "import re\n",
    "\n",
    "def get_html(url): #inputs url and returns html\n",
    "    page =  urlopen(url).read()\n",
    "    return page\n",
    "\n",
    "test_url = 'http://www.basketball-reference.com/boxscores/201704120CHI.html'\n",
    "html = get_html(test_url)\n",
    "parser = BeautifulSoup(html, 'html.parser')"
   ]
  },
  {
   "cell_type": "code",
   "execution_count": 137,
   "metadata": {
    "collapsed": false
   },
   "outputs": [
    {
     "name": "stdout",
     "output_type": "stream",
     "text": [
      "<th class=\"left \" csk=\"Dinwiddie,Spencer\" data-append-csv=\"dinwisp01\" data-stat=\"player\" scope=\"row\"><a href=\"/players/d/dinwisp01.html\">Spencer Dinwiddie</a></th>\n",
      "<th class=\"left \" csk=\"Hollis-Jefferson,Rondae\" data-append-csv=\"holliro01\" data-stat=\"player\" scope=\"row\"><a href=\"/players/h/holliro01.html\">Rondae Hollis-Jefferson</a></th>\n",
      "<th class=\"left \" csk=\"Hamilton,Justin\" data-append-csv=\"hamilju01\" data-stat=\"player\" scope=\"row\"><a href=\"/players/h/hamilju01.html\">Justin Hamilton</a></th>\n",
      "<th class=\"left \" csk=\"LeVert,Caris\" data-append-csv=\"leverca01\" data-stat=\"player\" scope=\"row\"><a href=\"/players/l/leverca01.html\">Caris LeVert</a></th>\n",
      "<th class=\"left \" csk=\"Foye,Randy\" data-append-csv=\"foyera01\" data-stat=\"player\" scope=\"row\"><a href=\"/players/f/foyera01.html\">Randy Foye</a></th>\n",
      "<th class=\"left \" csk=\"Goodwin,Archie\" data-append-csv=\"goodwar01\" data-stat=\"player\" scope=\"row\"><a href=\"/players/g/goodwar01.html\">Archie Goodwin</a></th>\n",
      "<th class=\"left \" csk=\"Whitehead,Isaiah\" data-append-csv=\"whiteis01\" data-stat=\"player\" scope=\"row\"><a href=\"/players/w/whiteis01.html\">Isaiah Whitehead</a></th>\n",
      "<th class=\"left \" csk=\"McDaniels,K.J.\" data-append-csv=\"mcdankj01\" data-stat=\"player\" scope=\"row\"><a href=\"/players/m/mcdankj01.html\">K.J. McDaniels</a></th>\n",
      "<th class=\"left \" csk=\"Nicholson,Andrew\" data-append-csv=\"nichoan01\" data-stat=\"player\" scope=\"row\"><a href=\"/players/n/nichoan01.html\">Andrew Nicholson</a></th>\n",
      "<th class=\"left \" csk=\"Butler,Jimmy\" data-append-csv=\"butleji01\" data-stat=\"player\" scope=\"row\"><a href=\"/players/b/butleji01.html\">Jimmy Butler</a></th>\n",
      "<th class=\"left \" csk=\"Lopez,Robin\" data-append-csv=\"lopezro01\" data-stat=\"player\" scope=\"row\"><a href=\"/players/l/lopezro01.html\">Robin Lopez</a></th>\n",
      "<th class=\"left \" csk=\"Mirotic,Nikola\" data-append-csv=\"mirotni01\" data-stat=\"player\" scope=\"row\"><a href=\"/players/m/mirotni01.html\">Nikola Mirotic</a></th>\n",
      "<th class=\"left \" csk=\"Wade,Dwyane\" data-append-csv=\"wadedw01\" data-stat=\"player\" scope=\"row\"><a href=\"/players/w/wadedw01.html\">Dwyane Wade</a></th>\n",
      "<th class=\"left \" csk=\"Rondo,Rajon\" data-append-csv=\"rondora01\" data-stat=\"player\" scope=\"row\"><a href=\"/players/r/rondora01.html\">Rajon Rondo</a></th>\n",
      "<th class=\"left \" csk=\"Zipser,Paul\" data-append-csv=\"zipsepa01\" data-stat=\"player\" scope=\"row\"><a href=\"/players/z/zipsepa01.html\">Paul Zipser</a></th>\n",
      "<th class=\"left \" csk=\"Portis,Bobby\" data-append-csv=\"portibo01\" data-stat=\"player\" scope=\"row\"><a href=\"/players/p/portibo01.html\">Bobby Portis</a></th>\n",
      "<th class=\"left \" csk=\"Grant,Jerian\" data-append-csv=\"grantje02\" data-stat=\"player\" scope=\"row\"><a href=\"/players/g/grantje02.html\">Jerian Grant</a></th>\n",
      "<th class=\"left \" csk=\"Felicio,Cristiano\" data-append-csv=\"feliccr01\" data-stat=\"player\" scope=\"row\"><a href=\"/players/f/feliccr01.html\">Cristiano Felicio</a></th>\n",
      "<th class=\"left \" csk=\"Valentine,Denzel\" data-append-csv=\"valende01\" data-stat=\"player\" scope=\"row\"><a href=\"/players/v/valende01.html\">Denzel Valentine</a></th>\n",
      "<th class=\"left \" csk=\"Lauvergne,Joffrey\" data-append-csv=\"lauvejo01\" data-stat=\"player\" scope=\"row\"><a href=\"/players/l/lauvejo01.html\">Joffrey Lauvergne</a></th>\n",
      "<th class=\"left \" csk=\"Carter-Williams,Michael\" data-append-csv=\"cartemi01\" data-stat=\"player\" scope=\"row\"><a href=\"/players/c/cartemi01.html\">Michael Carter-Williams</a></th>\n",
      "<th class=\"left \" csk=\"Morrow,Anthony\" data-append-csv=\"morroan01\" data-stat=\"player\" scope=\"row\"><a href=\"/players/m/morroan01.html\">Anthony Morrow</a></th>\n"
     ]
    }
   ],
   "source": [
    "basic_boxscore_tag = parser.find_all(id = re.compile('all_box_[a-z]*_basic')) #use only basic box scores\n",
    "for tag_team in basic_boxscore_tag:\n",
    "    for tag_player in tag_team.find_all(attrs={'data-stat' : 'player'}):\n",
    "        if tag_player.has_attr('data-append-csv') and tag_player.parent.find('td').has_attr('csk'):\n",
    "            print tag_player"
   ]
  },
  {
   "cell_type": "code",
   "execution_count": 504,
   "metadata": {
    "collapsed": false
   },
   "outputs": [],
   "source": [
    "test_url = 'http://www.basketball-reference.com/boxscores/pbp/201702250SAC.html'\n",
    "html = get_html(test_url)\n",
    "parser = BeautifulSoup(html, 'html.parser')"
   ]
  },
  {
   "cell_type": "code",
   "execution_count": 511,
   "metadata": {
    "collapsed": false
   },
   "outputs": [
    {
     "name": "stdout",
     "output_type": "stream",
     "text": [
      "<a href=\"/players/c/collida01.html\">D. Collison</a>\n",
      "<a href=\"/players/e/evansty01.html\">T. Evans</a>\n",
      "<a href=\"/players/e/evansty01.html\">T. Evans</a>\n",
      "<a href=\"/players/c/collida01.html\">D. Collison</a>\n",
      "<a href=\"/players/e/evansty01.html\">T. Evans</a>\n",
      "<a href=\"/players/c/caulewi01.html\">W. Cauley-Stein</a>\n",
      "<a href=\"/players/l/lawsoty01.html\">T. Lawson</a>\n",
      "<a href=\"/players/e/evansty01.html\">T. Evans</a>\n",
      "<a href=\"/players/l/lawsoty01.html\">T. Lawson</a>\n",
      "<a href=\"/players/e/evansty01.html\">T. Evans</a>\n",
      "<a href=\"/players/t/tollian01.html\">A. Tolliver</a>\n",
      "<a href=\"/players/c/collida01.html\">D. Collison</a>\n",
      "<a href=\"/players/c/collida01.html\">D. Collison</a>\n",
      "<a href=\"/players/h/hieldbu01.html\">B. Hield</a>\n",
      "<a href=\"/players/c/collida01.html\">D. Collison</a>\n",
      "<a href=\"/players/l/labissk01.html\">S. Labissiere</a>\n",
      "<a href=\"/players/h/hieldbu01.html\">B. Hield</a>\n",
      "<a href=\"/players/g/gallola01.html\">L. Galloway</a>\n"
     ]
    }
   ],
   "source": [
    "pbp = parser.find('table', {'id':'pbp'}).find_all('tr')\n",
    "for tag in pbp:\n",
    "    if tag.has_attr('class'):\n",
    "        if tag.has_attr('id'):\n",
    "            quarter += 1\n",
    "        continue\n",
    "    column = tag.find_all('td')\n",
    "    if column[1].string != None:\n",
    "        if 'quarter' in column[1].string:\n",
    "            continue\n",
    "    if column[1].has_attr('colspan'):\n",
    "        continue\n",
    "    elif 'makes' in column[5].text and 'pt' in column[5].text:\n",
    "        make_pt_players = column[5].find_all('a')\n",
    "        if 'assist' in column[5].text:\n",
    "            print make_pt_players[1]"
   ]
  },
  {
   "cell_type": "code",
   "execution_count": 434,
   "metadata": {
    "collapsed": false
   },
   "outputs": [],
   "source": [
    "test_url = 'http://www.basketball-reference.com/boxscores/pbp/201612030MEM.html'\n",
    "html = get_html(test_url)\n",
    "parser = BeautifulSoup(html, 'html.parser')"
   ]
  },
  {
   "cell_type": "code",
   "execution_count": 436,
   "metadata": {
    "collapsed": false
   },
   "outputs": [
    {
     "ename": "IndexError",
     "evalue": "list index out of range",
     "output_type": "error",
     "traceback": [
      "\u001b[0;31m---------------------------------------------------------------------------\u001b[0m",
      "\u001b[0;31mIndexError\u001b[0m                                Traceback (most recent call last)",
      "\u001b[0;32m<ipython-input-436-0c499fc71ee8>\u001b[0m in \u001b[0;36m<module>\u001b[0;34m()\u001b[0m\n\u001b[1;32m     10\u001b[0m             \u001b[0;32mcontinue\u001b[0m\u001b[0;34m\u001b[0m\u001b[0m\n\u001b[1;32m     11\u001b[0m     \u001b[0mteam_column\u001b[0m \u001b[0;34m=\u001b[0m \u001b[0;36m5\u001b[0m\u001b[0;34m\u001b[0m\u001b[0m\n\u001b[0;32m---> 12\u001b[0;31m     \u001b[0;32mif\u001b[0m \u001b[0mcolumn\u001b[0m\u001b[0;34m[\u001b[0m\u001b[0mteam_column\u001b[0m\u001b[0;34m]\u001b[0m\u001b[0;34m.\u001b[0m\u001b[0mstring\u001b[0m \u001b[0;34m!=\u001b[0m \u001b[0mNone\u001b[0m\u001b[0;34m:\u001b[0m\u001b[0;34m\u001b[0m\u001b[0m\n\u001b[0m\u001b[1;32m     13\u001b[0m         \u001b[0;32mif\u001b[0m \u001b[0;34m'quarter'\u001b[0m \u001b[0;32min\u001b[0m \u001b[0mcolumn\u001b[0m\u001b[0;34m[\u001b[0m\u001b[0;36m1\u001b[0m\u001b[0;34m]\u001b[0m\u001b[0;34m.\u001b[0m\u001b[0mstring\u001b[0m\u001b[0;34m:\u001b[0m\u001b[0;34m\u001b[0m\u001b[0m\n\u001b[1;32m     14\u001b[0m             \u001b[0;32mcontinue\u001b[0m\u001b[0;34m\u001b[0m\u001b[0m\n",
      "\u001b[0;31mIndexError\u001b[0m: list index out of range"
     ]
    }
   ],
   "source": [
    "pbp = parser.find('table', {'id':'pbp'}).find_all('tr')\n",
    "for tag in pbp:\n",
    "    if tag.has_attr('class'):\n",
    "        if tag.has_attr('id'):\n",
    "            quarter += 1\n",
    "        continue\n",
    "    column = tag.find_all('td')\n",
    "    if column[1].string != None: #removes \"start of x quarter\" rows\n",
    "        if 'quarter' in column[1].string:\n",
    "            continue\n",
    "    team_column = 5\n",
    "    if column[team_column].string != None:\n",
    "        if 'quarter' in column[1].string:\n",
    "            continue\n",
    "    if column[team_column].has_attr('colspan'):\n",
    "        continue\n",
    "    elif column[team_column].string == None:\n",
    "        if 'Turnover' in column[team_column].text or 'turnover' in column[5].text:\n",
    "            make_2pt_players = column[team_column].find_all('a')\n",
    "            if 'ft' in column[team_column].text:\n",
    "                make_2pt_distance = int(column[team_column].text[column[team_column].text.find('ft')-3:column[team_column].text.find('ft')-1])\n",
    "            print column[team_column].text\n",
    "            #if 'assist' in column[1].text:"
   ]
  },
  {
   "cell_type": "code",
   "execution_count": 432,
   "metadata": {
    "collapsed": false
   },
   "outputs": [
    {
     "ename": "IndexError",
     "evalue": "list index out of range",
     "output_type": "error",
     "traceback": [
      "\u001b[0;31m---------------------------------------------------------------------------\u001b[0m",
      "\u001b[0;31mIndexError\u001b[0m                                Traceback (most recent call last)",
      "\u001b[0;32m<ipython-input-432-d78b46b68e19>\u001b[0m in \u001b[0;36m<module>\u001b[0;34m()\u001b[0m\n\u001b[0;32m----> 1\u001b[0;31m \u001b[0;32mprint\u001b[0m \u001b[0mcolumn\u001b[0m\u001b[0;34m[\u001b[0m\u001b[0;36m5\u001b[0m\u001b[0;34m]\u001b[0m\u001b[0;34m\u001b[0m\u001b[0m\n\u001b[0m",
      "\u001b[0;31mIndexError\u001b[0m: list index out of range"
     ]
    }
   ],
   "source": [
    "print column[5]"
   ]
  },
  {
   "cell_type": "code",
   "execution_count": null,
   "metadata": {
    "collapsed": true
   },
   "outputs": [],
   "source": []
  }
 ],
 "metadata": {
  "kernelspec": {
   "display_name": "Python 2",
   "language": "python",
   "name": "python2"
  },
  "language_info": {
   "codemirror_mode": {
    "name": "ipython",
    "version": 2
   },
   "file_extension": ".py",
   "mimetype": "text/x-python",
   "name": "python",
   "nbconvert_exporter": "python",
   "pygments_lexer": "ipython2",
   "version": "2.7.13"
  }
 },
 "nbformat": 4,
 "nbformat_minor": 2
}
